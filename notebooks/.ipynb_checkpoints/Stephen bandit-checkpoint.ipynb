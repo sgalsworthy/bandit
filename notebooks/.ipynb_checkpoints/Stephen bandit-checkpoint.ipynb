{
 "cells": [
  {
   "cell_type": "code",
   "execution_count": null,
   "metadata": {
    "collapsed": false
   },
   "outputs": [],
   "source": [
    "import numpy as np \n",
    "import pandas as pd \n",
    "import matplotlib.pyplot as plt\n",
    "from scipy.stats import beta\n",
    "%matplotlib inline  "
   ]
  },
  {
   "cell_type": "markdown",
   "metadata": {},
   "source": [
    "Let's first build some python classes to help us out. "
   ]
  },
  {
   "cell_type": "code",
   "execution_count": null,
   "metadata": {
    "collapsed": false
   },
   "outputs": [],
   "source": [
    "class Arm():\n",
    "    def __init__(self, prob):\n",
    "        self.prob = prob\n",
    "        \n",
    "    def pull(self):\n",
    "        return np.random.choice([0,1], 1, p = [1 - self.prob, self.prob])[0]\n",
    "\n",
    "class Bandit():\n",
    "    def __init__(self, probs):\n",
    "        self.arms = {k:Arm(v) for k,v in enumerate(probs)}\n",
    "    \n",
    "    def pull_arm(self, arm_id):\n",
    "        return self.arms[arm_id].pull()"
   ]
  },
  {
   "cell_type": "code",
   "execution_count": null,
   "metadata": {
    "collapsed": false
   },
   "outputs": [],
   "source": [
    "results=pd.DataFrame(index=['profit', 'regret', 'percentage'])\n"
   ]
  },
  {
   "cell_type": "markdown",
   "metadata": {},
   "source": [
    "With these classes defined we can make a bandit. "
   ]
  },
  {
   "cell_type": "code",
   "execution_count": null,
   "metadata": {
    "collapsed": false
   },
   "outputs": [],
   "source": [
    "probs = [0.1, 0.15, 0.1, 0.001]\n",
    "n = 1000\n",
    "bandit = Bandit(probs)\n",
    "\n",
    "\n",
    "data = [] \n",
    "for _ in range(n):\n",
    "    arm = np.random.choice(list(range(len(probs))))\n",
    "    data.append([arm, bandit.pull_arm(arm), _])\n",
    "\n",
    "df = pd.DataFrame(data, columns=['arm', 'score', 'time'])\n",
    "\n",
    "agg = df.groupby(['arm', 'time']).agg([len, np.sum])['score'].reset_index()\n",
    "\n",
    "pltr = agg.pivot('time', 'arm')['sum'].fillna(0).cumsum()\n",
    "# pltr.plot(figsize=(10, 2), title = \"Accumulated winning per arm\")\n",
    "\n",
    "pltr = (pltr / agg.pivot('time', 'arm')['len'].fillna(0).cumsum())\n",
    "# _ = pltr.plot(figsize=(10, 2), title=\"Win probability per arm over time.\")\n",
    "\n",
    "total_profit = agg.pivot('time', 'arm')['sum'].cumsum().sum(axis = 1).max()\n",
    "max_expected_profit = np.max(probs)*n\n",
    "print(\"total profit is {}\".format(total_profit))\n",
    "print(\"total regret is {}\".format(max_expected_profit - total_profit))\n",
    "print(\"percentage is {}%\".format(100*total_profit/max_expected_profit))\n",
    "\n",
    "results['random'] = [total_profit, max_expected_profit - total_profit, 100*total_profit/max_expected_profit]"
   ]
  },
  {
   "cell_type": "markdown",
   "metadata": {},
   "source": [
    "# Towards an Algorithm\n",
    "\n",
    "This seems to work well enough, but let's turn it into an algorithm. We should be able to do something better than random. "
   ]
  },
  {
   "cell_type": "code",
   "execution_count": null,
   "metadata": {
    "collapsed": false
   },
   "outputs": [],
   "source": [
    "def pick_arm(counter, epsilon=0.05):\n",
    "    if np.random.uniform() < epsilon:\n",
    "        probs = [1.0 for _ in counter.keys()]\n",
    "    else:\n",
    "        probs = [(counter[_][0] + 0.001)/counter[_][1] for _ in counter.keys()] \n",
    "    print(probs)\n",
    "    return np.random.choice(list(range(len(counter.keys()))), p = probs/np.sum(probs))"
   ]
  },
  {
   "cell_type": "code",
   "execution_count": null,
   "metadata": {
    "collapsed": false
   },
   "outputs": [],
   "source": [
    "bandit = Bandit(probs)\n",
    "counter = {arm:(1,1) for arm in range(len(probs))}\n",
    "data = []\n",
    "for _ in range(n):\n",
    "    arm = pick_arm(counter, 1/(_+1))\n",
    "    outcome = bandit.pull_arm(arm)\n",
    "    counter[arm] = counter[arm][0] + outcome, counter[arm][1] + 1\n",
    "    data.append([arm, bandit.pull_arm(arm), _])"
   ]
  },
  {
   "cell_type": "code",
   "execution_count": null,
   "metadata": {
    "collapsed": false
   },
   "outputs": [],
   "source": []
  },
  {
   "cell_type": "code",
   "execution_count": null,
   "metadata": {
    "collapsed": false
   },
   "outputs": [],
   "source": [
    "df = pd.DataFrame(data, columns=['arm', 'score', 'time'])\n",
    "agg = df.groupby(['arm', 'time']).agg([len, np.sum])['score'].reset_index()"
   ]
  },
  {
   "cell_type": "code",
   "execution_count": null,
   "metadata": {
    "collapsed": false
   },
   "outputs": [],
   "source": [
    "pltr = agg.pivot('time', 'arm')['sum'].fillna(0).cumsum()\n",
    "_ = pltr.plot(figsize=(10, 2), title = \"Accumulated winning per arm\")"
   ]
  },
  {
   "cell_type": "code",
   "execution_count": null,
   "metadata": {
    "collapsed": false,
    "scrolled": true
   },
   "outputs": [],
   "source": [
    "pltr = (pltr / agg.pivot('time', 'arm')['len'].fillna(0).cumsum())\n",
    "_ = pltr.plot(figsize=(10, 2), title=\"Win probability per arm over time.\")"
   ]
  },
  {
   "cell_type": "code",
   "execution_count": null,
   "metadata": {
    "collapsed": false
   },
   "outputs": [],
   "source": [
    "total_profit = agg.pivot('time', 'arm')['sum'].cumsum().sum(axis = 1).max()\n",
    "max_expected_profit = np.max(probs)*n\n",
    "print(\"total profit is {}\".format(total_profit))\n",
    "print(\"total regret is {}\".format(max_expected_profit - total_profit))\n",
    "print(\"percentage is {}%\".format(100*total_profit/max_expected_profit))\n",
    "\n",
    "results['Vincent'] = [total_profit, max_expected_profit - total_profit, 100*total_profit/max_expected_profit]\n"
   ]
  },
  {
   "cell_type": "markdown",
   "metadata": {},
   "source": [
    "## Epsilon-first strategy\n",
    "A pure exploration phase is followed by a pure exploitation phase. For $N$ trials in total, the exploration phase occupies $\\epsilon N$ trials and the exploitation phase $(1-\\epsilon )N$ trials. During the exploration phase, a lever is randomly selected (with uniform probability); during the exploitation phase, the best lever is always selected."
   ]
  },
  {
   "cell_type": "code",
   "execution_count": null,
   "metadata": {
    "collapsed": false
   },
   "outputs": [],
   "source": [
    "def pick_arm_epsilon_first(counter, time, N, epsilon=0.1):\n",
    "    # if time less than eN then randomly select, else choose best and exploit\n",
    "    if  time < epsilon*N:\n",
    "        # explore all arms randomly\n",
    "        probs = [1.0 for _ in counter.keys()]\n",
    "        output = np.random.choice(list(range(len(counter.keys()))), p = probs/np.sum(probs))\n",
    "    else:\n",
    "        # select arm that is best performing and exploit\n",
    "#         print('exploitation')\n",
    "        probs = [(counter[_][0] + 0.001)/counter[_][1] for _ in counter.keys()]\n",
    "        relative_probs = pd.DataFrame(probs/np.sum(probs), columns=['value'])\n",
    "#         print(str(relative_probs))\n",
    "        output = relative_probs.idxmax(axis=0)[0] \n",
    "#         print(output)\n",
    "    return output"
   ]
  },
  {
   "cell_type": "code",
   "execution_count": null,
   "metadata": {
    "collapsed": false
   },
   "outputs": [],
   "source": []
  },
  {
   "cell_type": "code",
   "execution_count": null,
   "metadata": {
    "collapsed": false
   },
   "outputs": [],
   "source": [
    "bandit = Bandit(probs)\n",
    "counter = {arm:(1,1) for arm in range(len(probs))}\n",
    "data = []\n",
    "for _ in range(n):\n",
    "#     print('time = ' + str(_))\n",
    "    arm = pick_arm_epsilon_first(counter, _, n, 0.5)\n",
    "    outcome = bandit.pull_arm(arm)\n",
    "    counter[arm] = counter[arm][0] + outcome, counter[arm][1] + 1\n",
    "    data.append([arm, bandit.pull_arm(arm), _])"
   ]
  },
  {
   "cell_type": "code",
   "execution_count": null,
   "metadata": {
    "collapsed": false
   },
   "outputs": [],
   "source": [
    "df = pd.DataFrame(data, columns=['arm', 'score', 'time'])\n",
    "agg = df.groupby(['arm', 'time']).agg([len, np.sum])['score'].reset_index()"
   ]
  },
  {
   "cell_type": "code",
   "execution_count": null,
   "metadata": {
    "collapsed": false
   },
   "outputs": [],
   "source": [
    "pltr = agg.pivot('time', 'arm')['sum'].fillna(0).cumsum()\n",
    "_ = pltr.plot(figsize=(10, 2), title = \"Accumulated winning per arm\")"
   ]
  },
  {
   "cell_type": "code",
   "execution_count": null,
   "metadata": {
    "collapsed": false,
    "scrolled": true
   },
   "outputs": [],
   "source": [
    "pltr = (pltr / agg.pivot('time', 'arm')['len'].fillna(0).cumsum())\n",
    "_ = pltr.plot(figsize=(10, 2), title=\"Win probability per arm over time.\")"
   ]
  },
  {
   "cell_type": "code",
   "execution_count": null,
   "metadata": {
    "collapsed": false
   },
   "outputs": [],
   "source": [
    "total_profit = agg.pivot('time', 'arm')['sum'].cumsum().sum(axis = 1).max()\n",
    "max_expected_profit = np.max(probs)*n\n",
    "print(\"total profit is {}\".format(total_profit))\n",
    "print(\"total regret is {}\".format(max_expected_profit - total_profit))\n",
    "print(\"percentage is {}%\".format(100*total_profit/max_expected_profit))\n",
    "\n",
    "results['epsilon_first'] = [total_profit, max_expected_profit - total_profit, 100*total_profit/max_expected_profit]"
   ]
  },
  {
   "cell_type": "markdown",
   "metadata": {},
   "source": [
    "## Probability solution"
   ]
  },
  {
   "cell_type": "markdown",
   "metadata": {},
   "source": [
    "Take beta distribution for each arm. Calculate probability that one is greater than the other"
   ]
  },
  {
   "cell_type": "code",
   "execution_count": null,
   "metadata": {
    "collapsed": false
   },
   "outputs": [],
   "source": [
    "import matplotlib.pyplot as plt\n",
    "from scipy.integrate import cumtrapz, trapz\n",
    "\n",
    "fig, ax = plt.subplots(1, 2, figsize=(30,10))\n",
    "\n",
    "a1, b1 = 500, 4500\n",
    "a2, b2 = 60, 450\n",
    "# mean, var, skew, kurt = beta.stats(a, b, moments='mvsk')\n",
    "\n",
    "\n",
    "df=pd.DataFrame(np.linspace(0, 1 , 100000), columns=['x'])\n",
    "\n",
    "\n",
    "df['dist1'] = beta.pdf(df.x, a1, b1)\n",
    "df['dist2'] = beta.pdf(df.x, a2, b2)\n",
    "df['delta'] = df.dist1 - df.dist2\n",
    "\n",
    "# intersection between the two curves, starting from above minimum MLE\n",
    "min_MLE = min(a1/(a1+b1), a2/(a2+b2))\n",
    "cutoff = min(df.x[(df.dist2 > df.dist1) & (df.x >  min_MLE)])\n",
    "\n",
    "ax[0].plot(df.x, df.dist1)\n",
    "ax[0].plot(df.x, df.dist2)\n",
    "ax[0].set_xlim([0,0.2])\n",
    "\n",
    "\n",
    "# filter = df.delta<=0\n",
    "filter = df.x > cutoff\n",
    "\n",
    "\n",
    "\n",
    "\n",
    "ax[1].plot(df.x[filter], df.delta[filter] , lw=3)\n",
    "ax[1].set_xlim([0,0.2])\n",
    "\n",
    "prob_greater = -1* trapz(df.delta[filter], x=df.x[filter])\n",
    "\n",
    "print(prob_greater)\n",
    "\n",
    "def prob_greater(a1,b1,a2,b2):\n",
    "    df=pd.DataFrame(np.linspace(0, 1 , 10000), columns=['x'])\n",
    "    df['dist1'] = beta.pdf(df.x, a1, b1)\n",
    "    df['dist2'] = beta.pdf(df.x, a2, b2)\n",
    "    df['delta'] = df.dist1 - df.dist2\n",
    "    \n",
    "    # intersection between the two curves, starting from above minimum MLE\n",
    "    min_MLE = min(a1/(a1+b1), a2/(a2+b2))\n",
    "    \n",
    "    df_selected = df.x[(df.dist2 > df.dist1) & (df.x >  min_MLE)]\n",
    "    \n",
    "    if df_selected.empty:\n",
    "        cutoff=0\n",
    "    else:\n",
    "        cutoff = min(df.x[(df.dist2 > df.dist1) & (df.x >  min_MLE)])\n",
    "\n",
    "    filter = df.x > cutoff\n",
    "    filter = df.delta<=0\n",
    "\n",
    "    prob_greater = -1* trapz(df.delta[filter], x=df.x[filter])\n",
    "\n",
    "    return prob_greater\n",
    "\n",
    "\n"
   ]
  },
  {
   "cell_type": "code",
   "execution_count": null,
   "metadata": {
    "collapsed": false
   },
   "outputs": [],
   "source": [
    "prob_greater"
   ]
  },
  {
   "cell_type": "code",
   "execution_count": null,
   "metadata": {
    "collapsed": false
   },
   "outputs": [],
   "source": [
    "def pick_arm_random(counter):\n",
    "    return np.random.choice(list(filtered_counter3.keys()))\n",
    "\n",
    "\n",
    "def select_arms_still_available(counter3, time, epsilon, N):\n",
    "    # drop options for arm when convinced that one is better than the other \n",
    "    arm_estimated_mean = ({k:(x/(y-x+1)) for k,(x,y,z) in counter3.items()})\n",
    "    \n",
    "    # find highest\n",
    "    arm_highest = max(arm_estimated_mean.items(), key=lambda x: x[1])[0]\n",
    "\n",
    "    \n",
    "    # find lowest\n",
    "    arm_lowest = min(arm_estimated_mean.items(), key=lambda x: x[1])[0] \n",
    "    \n",
    "    a1 = counter3[arm_lowest][0]\n",
    "    b1 = max(1, counter3[arm_lowest][1] - counter3[arm_lowest][0])\n",
    "    \n",
    "    a2 = counter3[arm_highest][0]\n",
    "    b2 = max(1, counter3[arm_highest][1] - counter3[arm_lowest][0])\n",
    "    \n",
    "    \n",
    "    # for highest and lowest compare using prob_greater\n",
    "    if (prob_greater(a1,b1,a2,b2) > 0.7) & (time>epsilon*N) & (len(counter3.keys())>1):\n",
    "        counter3[arm_lowest] = (a1, b1, 0)\n",
    "\n",
    "    return counter3\n"
   ]
  },
  {
   "cell_type": "code",
   "execution_count": null,
   "metadata": {
    "collapsed": false,
    "scrolled": true
   },
   "outputs": [],
   "source": [
    "bandit = Bandit(probs)\n",
    "counter3 = {arm:(1,1,1) for arm in range(len(probs))}\n",
    "data = []\n",
    "filtered_counter3 = counter3\n",
    "for _ in range(n):\n",
    "    filtered_counter3 = {k:(a,b,c) for k,(a,b,c) in counter3.items() if c!=0}\n",
    "    counter3 = select_arms_still_available(filtered_counter3, time=_, epsilon=0.01, N=n)\n",
    "    arm = pick_arm_random(filtered_counter3)\n",
    "    outcome = bandit.pull_arm(arm)\n",
    "    counter3[arm] = counter3[arm][0] + outcome, counter3[arm][1] + 1, counter3[arm][2]\n",
    "    data.append([arm, bandit.pull_arm(arm), _])"
   ]
  },
  {
   "cell_type": "code",
   "execution_count": null,
   "metadata": {
    "collapsed": false
   },
   "outputs": [],
   "source": [
    "df = pd.DataFrame(data, columns=['arm', 'score', 'time'])\n",
    "agg = df.groupby(['arm', 'time']).agg([len, np.sum])['score'].reset_index()"
   ]
  },
  {
   "cell_type": "code",
   "execution_count": null,
   "metadata": {
    "collapsed": false
   },
   "outputs": [],
   "source": [
    "pltr = agg.pivot('time', 'arm')['sum'].fillna(0).cumsum()\n",
    "_ = pltr.plot(figsize=(10, 2), title = \"Accumulated winning per arm\")"
   ]
  },
  {
   "cell_type": "code",
   "execution_count": null,
   "metadata": {
    "collapsed": false,
    "scrolled": true
   },
   "outputs": [],
   "source": [
    "pltr = (pltr / agg.pivot('time', 'arm')['len'].fillna(0).cumsum())\n",
    "_ = pltr.plot(figsize=(10, 2), title=\"Win probability per arm over time.\")"
   ]
  },
  {
   "cell_type": "code",
   "execution_count": null,
   "metadata": {
    "collapsed": false
   },
   "outputs": [],
   "source": [
    "total_profit = agg.pivot('time', 'arm')['sum'].cumsum().sum(axis = 1).max()\n",
    "max_expected_profit = np.max(probs)*n\n",
    "print(\"total profit is {}\".format(total_profit))\n",
    "print(\"total regret is {}\".format(max_expected_profit - total_profit))\n",
    "print(\"percentage is {}%\".format(100*total_profit/max_expected_profit))\n",
    "\n",
    "results['beta_dist'] = [total_profit, max_expected_profit - total_profit, 100*total_profit/max_expected_profit]"
   ]
  },
  {
   "cell_type": "raw",
   "metadata": {},
   "source": []
  },
  {
   "cell_type": "raw",
   "metadata": {},
   "source": []
  },
  {
   "cell_type": "code",
   "execution_count": null,
   "metadata": {
    "collapsed": false
   },
   "outputs": [],
   "source": [
    "results"
   ]
  },
  {
   "cell_type": "code",
   "execution_count": null,
   "metadata": {
    "collapsed": true
   },
   "outputs": [],
   "source": []
  }
 ],
 "metadata": {
  "kernelspec": {
   "display_name": "Python 3",
   "language": "python",
   "name": "python3"
  },
  "language_info": {
   "codemirror_mode": {
    "name": "ipython",
    "version": 3
   },
   "file_extension": ".py",
   "mimetype": "text/x-python",
   "name": "python",
   "nbconvert_exporter": "python",
   "pygments_lexer": "ipython3",
   "version": "3.5.1"
  }
 },
 "nbformat": 4,
 "nbformat_minor": 1
}
